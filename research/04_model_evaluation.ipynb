{
 "cells": [
  {
   "cell_type": "code",
   "execution_count": 1,
   "metadata": {},
   "outputs": [],
   "source": [
    "import os"
   ]
  },
  {
   "cell_type": "code",
   "execution_count": 2,
   "metadata": {},
   "outputs": [
    {
     "data": {
      "text/plain": [
       "'e:\\\\Projects for portfolio\\\\Exoplanet Chatbot\\\\research'"
      ]
     },
     "execution_count": 2,
     "metadata": {},
     "output_type": "execute_result"
    }
   ],
   "source": [
    "%pwd"
   ]
  },
  {
   "cell_type": "code",
   "execution_count": 3,
   "metadata": {},
   "outputs": [],
   "source": [
    "os.chdir('../')"
   ]
  },
  {
   "cell_type": "code",
   "execution_count": 4,
   "metadata": {},
   "outputs": [
    {
     "data": {
      "text/plain": [
       "'e:\\\\Projects for portfolio\\\\Exoplanet Chatbot'"
      ]
     },
     "execution_count": 4,
     "metadata": {},
     "output_type": "execute_result"
    }
   ],
   "source": [
    "%pwd"
   ]
  },
  {
   "cell_type": "code",
   "execution_count": 5,
   "metadata": {},
   "outputs": [],
   "source": [
    "from dataclasses import dataclass\n",
    "from pathlib import Path\n",
    "\n",
    "@dataclass(frozen=True)\n",
    "class ModelEvaluatorConfig: # defined for the config components present in artifacts for model training\n",
    "   root_dir: Path\n",
    "   data_path: Path\n",
    "   model_path: Path\n",
    "   tokenizer_path: Path\n",
    "   metric_file_name: Path\n",
    "   evaluation_data_path: Path"
   ]
  },
  {
   "cell_type": "code",
   "execution_count": 6,
   "metadata": {},
   "outputs": [],
   "source": [
    "# Configuration manager\n",
    "from exoplanet_chatbot.constants import *\n",
    "from exoplanet_chatbot.utils.common import read_yaml,create_directories\n",
    "\n",
    "class ConfigurationManager:\n",
    "    def __init__(\n",
    "            self,\n",
    "            config_filepath = CONFIG_FILE_PATH,\n",
    "            params_filepath = PARAMS_FILE_PATH):\n",
    "    # Here we are reading the yaml file and we can now use the file paths and parameter values present inside pararms and config.yaml        \n",
    "        self.config = read_yaml(config_filepath)\n",
    "        self.params = read_yaml(params_filepath)\n",
    "\n",
    "        create_directories([self.config.artifacts_root]) # Here we are calling the artifacts_root key values using '.' , which was the purpose of @ensure_annotations\n",
    "\n",
    "    def get_model_evaluator_config(self) -> ModelEvaluatorConfig:\n",
    "\n",
    "        config= self.config.model_evaluation # Calling the model_trainer dictionary created in config.yaml file\n",
    "\n",
    "        create_directories([config.root_dir]) # Creating a directory using the root directory\n",
    "\n",
    "        model_evaluator_config = ModelEvaluatorConfig( # Extracting the values from the config.yaml to here inside data_ingestion_config\n",
    "\n",
    "        root_dir=config.root_dir,\n",
    "        data_path=config.data_path,\n",
    "        model_path=config.model_path,\n",
    "        tokenizer_path=config.tokenizer_path,\n",
    "        metric_file_name=config.metric_file_name,\n",
    "        evaluation_data_path=config.evaluation_data_path\n",
    "        )\n",
    "        return model_evaluator_config"
   ]
  },
  {
   "cell_type": "code",
   "execution_count": 14,
   "metadata": {},
   "outputs": [],
   "source": [
    "# Model Evaluation\n",
    "\n",
    "import pandas as pd\n",
    "import torch\n",
    "import gc\n",
    "from transformers import AutoModelForCausalLM, AutoTokenizer\n",
    "from datasets import Dataset, load_metric\n",
    "\n",
    "\n",
    "class ModelEvaluator:\n",
    "    def __init__(self,config: ModelEvaluatorConfig):\n",
    "        self.config = config\n",
    "\n",
    "    def sampler(self,data_path):\n",
    "\n",
    "        finetune_dataset = pd.read_csv(data_path)\n",
    "        evaluation_sample = finetune_dataset.sample(n=1, random_state=42)\n",
    "\n",
    "        evaluation_sample.rename(columns={'output' : 'expected_response'},inplace=True)\n",
    "\n",
    "        return evaluation_sample\n",
    "    \n",
    "    def generate_response(self,prompt, model, tokenizer, max_length=350):\n",
    "        inputs = tokenizer(prompt, return_tensors=\"pt\").to('cpu')\n",
    "        with torch.no_grad():\n",
    "            outputs = model.generate(inputs['input_ids'], max_length=max_length)\n",
    "        return tokenizer.decode(outputs[0], skip_special_tokens=True)\n",
    "\n",
    "\n",
    "    def evaluate(self):\n",
    "\n",
    "        device = \"cuda\" if torch.cuda.is_available() else \"cpu\"\n",
    "\n",
    "        evaluation_sample = self.sampler(self.config.data_path) # Calling the sampler function to generate the evaluation sample\n",
    "\n",
    "        evaluation_sample.to_csv(self.config.evaluation_data_path) # Saving the evaluation dataset\n",
    "\n",
    "        evaluation_sample = evaluation_sample[['prompt','expected_response']] # Selecting the evaluation columns\n",
    "\n",
    "        # Loading the model and tokenizer\n",
    "\n",
    "        model = AutoModelForCausalLM.from_pretrained(self.config.model_path,torch_dtype=torch.float16)\n",
    "\n",
    "        tokenizer = AutoTokenizer.from_pretrained(self.config.tokenizer_path)\n",
    "        tokenizer.pad_token = tokenizer.eos_token\n",
    "        tokenizer.padding_side = \"left\"\n",
    "\n",
    "        # Generate predictions\n",
    "        evaluation_sample['generated_response'] = evaluation_sample['prompt'].apply(lambda x: self.generate_response(x, model, tokenizer))\n",
    "\n",
    "        # Clear CUDA cache\n",
    "        torch.cuda.empty_cache()\n",
    "        gc.collect()\n",
    "\n",
    "        # Converting the evaluation sample to dataset\n",
    "        evaluation_dataset = Dataset.from_pandas(evaluation_sample)\n",
    "\n",
    "        # Load evaluation metrics\n",
    "        rouge_metric = load_metric(\"rouge\")\n",
    "        bleu_metric = load_metric(\"bleu\")\n",
    "\n",
    "        # Extract references and predictions\n",
    "        references = evaluation_dataset[\"expected_response\"]\n",
    "        predictions_texts = evaluation_dataset[\"generated_response\"]\n",
    "\n",
    "        # Calculate ROUGE scores\n",
    "        rouge_result = rouge_metric.compute(predictions=predictions_texts, references=references)\n",
    "        print(\"ROUGE Score:\", rouge_result)\n",
    "\n",
    "        # Extracting 'mid' values from the rouge_result\n",
    "        rouge_1_dict = {\"precision\": rouge_result['rouge1'].mid.precision, \"recall\": rouge_result['rouge1'].mid.recall, \"f1\": rouge_result['rouge1'].mid.fmeasure}\n",
    "        rouge_2_dict = {\"precision\": rouge_result['rouge2'].mid.precision, \"recall\": rouge_result['rouge2'].mid.recall, \"f1\": rouge_result['rouge2'].mid.fmeasure}\n",
    "        rouge_L_dict = {\"precision\": rouge_result['rougeL'].mid.precision, \"recall\": rouge_result['rougeL'].mid.recall, \"f1\": rouge_result['rougeL'].mid.fmeasure}\n",
    "        rouge_Lsum_dict = {\"precision\": rouge_result['rougeLsum'].mid.precision, \"recall\": rouge_result['rougeLsum'].mid.recall, \"f1\": rouge_result['rougeLsum'].mid.fmeasure}\n",
    "\n",
    "        # Calculate BLEU score\n",
    "        bleu_result = bleu_metric.compute(predictions=[pred.split() for pred in predictions_texts], references=[[ref.split()] for ref in references])\n",
    "        print(\"BLEU Score:\", bleu_result)\n",
    "\n",
    "        # Create the results dictionary\n",
    "        results = {\n",
    "            \"Metric\": [\"ROUGE-1\", \"ROUGE-2\", \"ROUGE-L\", \"ROUGE-Lsum\", \"BLEU\"],\n",
    "            \"Precision\": [rouge_1_dict['precision'], rouge_2_dict['precision'], rouge_L_dict['precision'], rouge_Lsum_dict['precision'], None],\n",
    "            \"Recall\": [rouge_1_dict['recall'], rouge_2_dict['recall'], rouge_L_dict['recall'], rouge_Lsum_dict['recall'], None],\n",
    "            \"F1\": [rouge_1_dict['f1'], rouge_2_dict['f1'], rouge_L_dict['f1'], rouge_Lsum_dict['f1'], None],\n",
    "            \"Score\": [None, None, None, None, bleu_result['bleu']]\n",
    "        }\n",
    "\n",
    "        metric_results = pd.DataFrame(results)\n",
    "        metric_results.to_csv(self.config.metric_file_name, index=False)"
   ]
  },
  {
   "cell_type": "code",
   "execution_count": 15,
   "metadata": {},
   "outputs": [
    {
     "name": "stdout",
     "output_type": "stream",
     "text": [
      "[2024-06-17 20:28:21,706: INFO: common: yaml file: config\\config.yaml loaded successfully]\n",
      "[2024-06-17 20:28:21,709: INFO: common: yaml file: params.yaml loaded successfully]\n",
      "[2024-06-17 20:28:21,711: INFO: common: created directory at: artifacts]\n",
      "[2024-06-17 20:28:21,711: INFO: common: created directory at: artifacts/model_evaluation]\n"
     ]
    },
    {
     "data": {
      "application/vnd.jupyter.widget-view+json": {
       "model_id": "2bd46a2febd74056b99d62d92a02e434",
       "version_major": 2,
       "version_minor": 0
      },
      "text/plain": [
       "Loading checkpoint shards:   0%|          | 0/2 [00:00<?, ?it/s]"
      ]
     },
     "metadata": {},
     "output_type": "display_data"
    },
    {
     "name": "stderr",
     "output_type": "stream",
     "text": [
      "c:\\Users\\arany\\anaconda3\\envs\\pytorchgpu\\lib\\site-packages\\datasets\\load.py:753: FutureWarning: The repository for rouge contains custom code which must be executed to correctly load the metric. You can inspect the repository content at https://raw.githubusercontent.com/huggingface/datasets/2.17.0/metrics/rouge/rouge.py\n",
      "You can avoid this message in future by passing the argument `trust_remote_code=True`.\n",
      "Passing `trust_remote_code=True` will be mandatory to load this metric from the next major release of `datasets`.\n",
      "  warnings.warn(\n",
      "c:\\Users\\arany\\anaconda3\\envs\\pytorchgpu\\lib\\site-packages\\datasets\\load.py:753: FutureWarning: The repository for bleu contains custom code which must be executed to correctly load the metric. You can inspect the repository content at https://raw.githubusercontent.com/huggingface/datasets/2.17.0/metrics/bleu/bleu.py\n",
      "You can avoid this message in future by passing the argument `trust_remote_code=True`.\n",
      "Passing `trust_remote_code=True` will be mandatory to load this metric from the next major release of `datasets`.\n",
      "  warnings.warn(\n"
     ]
    },
    {
     "name": "stdout",
     "output_type": "stream",
     "text": [
      "[2024-06-17 20:40:46,290: INFO: rouge_scorer: Using default tokenizer.]\n",
      "ROUGE Score: {'rouge1': AggregateScore(low=Score(precision=0.046511627906976744, recall=1.0, fmeasure=0.08888888888888888), mid=Score(precision=0.046511627906976744, recall=1.0, fmeasure=0.08888888888888888), high=Score(precision=0.046511627906976744, recall=1.0, fmeasure=0.08888888888888888)), 'rouge2': AggregateScore(low=Score(precision=0.04205607476635514, recall=1.0, fmeasure=0.08071748878923767), mid=Score(precision=0.04205607476635514, recall=1.0, fmeasure=0.08071748878923767), high=Score(precision=0.04205607476635514, recall=1.0, fmeasure=0.08071748878923767)), 'rougeL': AggregateScore(low=Score(precision=0.046511627906976744, recall=1.0, fmeasure=0.08888888888888888), mid=Score(precision=0.046511627906976744, recall=1.0, fmeasure=0.08888888888888888), high=Score(precision=0.046511627906976744, recall=1.0, fmeasure=0.08888888888888888)), 'rougeLsum': AggregateScore(low=Score(precision=0.046511627906976744, recall=1.0, fmeasure=0.08888888888888888), mid=Score(precision=0.046511627906976744, recall=1.0, fmeasure=0.08888888888888888), high=Score(precision=0.046511627906976744, recall=1.0, fmeasure=0.08888888888888888))}\n",
      "BLEU Score: {'bleu': 0.04223490816273184, 'precisions': [0.04975124378109453, 0.045, 0.04020100502512563, 0.03535353535353535], 'brevity_penalty': 1.0, 'length_ratio': 20.1, 'translation_length': 201, 'reference_length': 10}\n"
     ]
    }
   ],
   "source": [
    "#Pipeline\n",
    "try:\n",
    "    config = ConfigurationManager()\n",
    "    model_evaluator_config = config.get_model_evaluator_config() # Storing the configuration\n",
    "    model_training = ModelEvaluator(config=model_evaluator_config) # Using the configuration saved earlier to call model_training\n",
    "    model_training.evaluate()\n",
    "except Exception as e:\n",
    "    raise e"
   ]
  },
  {
   "cell_type": "code",
   "execution_count": null,
   "metadata": {},
   "outputs": [],
   "source": []
  }
 ],
 "metadata": {
  "kernelspec": {
   "display_name": "pytorchgpu",
   "language": "python",
   "name": "python3"
  },
  "language_info": {
   "codemirror_mode": {
    "name": "ipython",
    "version": 3
   },
   "file_extension": ".py",
   "mimetype": "text/x-python",
   "name": "python",
   "nbconvert_exporter": "python",
   "pygments_lexer": "ipython3",
   "version": "3.10.14"
  }
 },
 "nbformat": 4,
 "nbformat_minor": 2
}
