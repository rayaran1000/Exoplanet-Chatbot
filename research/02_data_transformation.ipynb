{
 "cells": [
  {
   "cell_type": "code",
   "execution_count": 1,
   "metadata": {},
   "outputs": [],
   "source": [
    "import os"
   ]
  },
  {
   "cell_type": "code",
   "execution_count": 2,
   "metadata": {},
   "outputs": [
    {
     "data": {
      "text/plain": [
       "'e:\\\\Projects for portfolio\\\\Exoplanet Chatbot\\\\research'"
      ]
     },
     "execution_count": 2,
     "metadata": {},
     "output_type": "execute_result"
    }
   ],
   "source": [
    "%pwd"
   ]
  },
  {
   "cell_type": "code",
   "execution_count": 3,
   "metadata": {},
   "outputs": [],
   "source": [
    "#Since I want to get into the root directory i.e Text Summarization using Hugging Face API\n",
    "os.chdir(\"../\")"
   ]
  },
  {
   "cell_type": "code",
   "execution_count": null,
   "metadata": {},
   "outputs": [],
   "source": [
    "%pwd"
   ]
  },
  {
   "cell_type": "code",
   "execution_count": 4,
   "metadata": {},
   "outputs": [],
   "source": [
    "from dataclasses import dataclass\n",
    "from pathlib import Path\n",
    "\n",
    "@dataclass(frozen=True)\n",
    "class DataTransformationConfig: # defined for the config components present in artifacts for data transformation\n",
    "    root_dir : Path \n",
    "    data_path : Path\n",
    "    data_path_transformed : Path"
   ]
  },
  {
   "cell_type": "code",
   "execution_count": 5,
   "metadata": {},
   "outputs": [],
   "source": [
    "# Configuration manager\n",
    "from exoplanet_chatbot.constants import *\n",
    "from exoplanet_chatbot.utils.common import read_yaml,create_directories\n",
    "\n",
    "class ConfigurationManager:\n",
    "    def __init__(\n",
    "            self,\n",
    "            config_filepath = CONFIG_FILE_PATH,\n",
    "            params_filepath = PARAMS_FILE_PATH):\n",
    "    # Here we are reading the yaml file and we can now use the file paths present inside pararms and config.yaml        \n",
    "        self.config = read_yaml(config_filepath)\n",
    "        self.params = read_yaml(params_filepath)\n",
    "\n",
    "        create_directories([self.config.artifacts_root]) # Here we are calling the artifacts_root key values using '.' , which was the purpose of @ensure_annotations\n",
    "\n",
    "    def get_data_transformation_config(self) -> DataTransformationConfig: # Here we are using the entity to specify the return type classes to make sure proper output is returned\n",
    "        config= self.config.data_transformation # Calling the data_validation dictionary created in config.yaml file\n",
    "\n",
    "        create_directories([config.root_dir]) # Creating a directory using the root directory\n",
    "\n",
    "        data_transformation_config = DataTransformationConfig( # Extracting the values from the config.yaml to here inside data_ingestion_config\n",
    "            root_dir=config.root_dir,\n",
    "            data_path=config.data_path,\n",
    "            data_path_transformed=config.data_path_transformed\n",
    "        )\n",
    "\n",
    "        return data_transformation_config"
   ]
  },
  {
   "cell_type": "code",
   "execution_count": 6,
   "metadata": {},
   "outputs": [],
   "source": [
    "import os\n",
    "import numpy as np\n",
    "import pandas as pd\n",
    "import matplotlib.pyplot as plt\n",
    "import keras\n",
    "import tensorflow as tf\n",
    "from exoplanet_chatbot.logging import logger"
   ]
  },
  {
   "cell_type": "code",
   "execution_count": 10,
   "metadata": {},
   "outputs": [],
   "source": [
    "class DataTransformation:\n",
    "    def __init__(self,config:DataTransformationConfig): # It will take the configuration from DataIngestionConfig defined earlier , which will in turn use Configuration Manager to take data from config.yaml\n",
    "        self.config = config\n",
    "    \n",
    "    def feature_selection(self,data):\n",
    "\n",
    "        columns_to_include = ['Planet Name','Host Name','Number of Stars','Number of Planets','Number of Moons','Circumbinary Flag','Discovery Method', 'Discovery Year',\n",
    "       'Discovery Publication Date','Discovery Facilty','Discovery Telescope','Planet Radius [Earth Radius]',\n",
    "       'Planet Mass [Earth Mass]','Planet Density [g/cm**3]','Equilibrium Temperature [K]','Orbit Semi-Major Axis [au]',\n",
    "       'Radial Velocity Amplitude [m/s]','Stellar Effective Temperature [K]','Stellar Radius [Solar Radius]','Stellar Mass [Solar mass]']\n",
    "        \n",
    "        return data[columns_to_include]\n",
    "\n",
    "    def feature_engineering(self,data):\n",
    "\n",
    "        data.rename(columns={'Circumbinary Flag' : 'Binary System'},inplace=True)\n",
    "        data['Binary System'] = data['Binary System'].map({0 : 'Binary System', 1 : 'Not Binary System'})\n",
    "        return data\n",
    "    \n",
    "    def null_value_handling(self,data):\n",
    "\n",
    "        data.fillna(\"Not found Yet!!\",inplace=True)\n",
    "        return data\n",
    "\n",
    "    def context_generator(self,row):\n",
    "\n",
    "        context = (\n",
    "        f\"The exoplanet {row['Planet Name']} orbits the host star {row['Host Name']}. \"\n",
    "        f\"The system containing the exoplanet {row['Planet Name']} also contains {row['Number of Stars']} stars, {row['Number of Planets']} planets, and {row['Number of Moons']} moons. \"\n",
    "        f\"The exoplanet lies in a {row['Binary System']}. \"\n",
    "        f\"The planet was discovered using the {row['Discovery Method']} method in {row['Discovery Year']}. \"\n",
    "        f\"The discovery was published on {row['Discovery Publication Date']} and facilitated by {row['Discovery Facilty']} using the {row['Discovery Telescope']}. \"\n",
    "        f\"The planet has a radius of {row['Planet Radius [Earth Radius]']} Earth radii, a mass of {row['Planet Mass [Earth Mass]']} Earth masses, \"\n",
    "        f\"and a density of {row['Planet Density [g/cm**3]']} g/cm³. \"\n",
    "        f\"The equilibrium temperature is {row['Equilibrium Temperature [K]']} K. \"\n",
    "        f\"The semi-major axis of its orbit is {row['Orbit Semi-Major Axis [au]']} AU. \"\n",
    "        f\"The radial velocity amplitude is {row['Radial Velocity Amplitude [m/s]']} m/s. \"\n",
    "        f\"The host star has an effective temperature of {row['Stellar Effective Temperature [K]']} K, \"\n",
    "        f\"a radius of {row['Stellar Radius [Solar Radius]']} solar radii, and a mass of {row['Stellar Mass [Solar mass]']} solar masses.\"\n",
    "    )\n",
    "        return context\n",
    "    \n",
    "    def instruction_pair_generator(self,data):\n",
    "\n",
    "        instruction_context_response_pairs = []\n",
    "\n",
    "        for index, row in data.iterrows():\n",
    "            planet_name = row['Planet Name']\n",
    "            context = row['Context']\n",
    "            features = {\n",
    "                'Number of Stars': row['Number of Stars'],\n",
    "                'Number of Planets': row['Number of Planets'],\n",
    "                'Number of Moons': row['Number of Moons'],\n",
    "                'Binary System': row['Binary System'],\n",
    "                'Discovery Method': row['Discovery Method'],\n",
    "                'Discovery Year': row['Discovery Year'],\n",
    "                'Discovery Publication Date': row['Discovery Publication Date'],\n",
    "                'Discovery Facility': row['Discovery Facilty'],\n",
    "                'Discovery Telescope': row['Discovery Telescope'],\n",
    "                'Planet Radius': row['Planet Radius [Earth Radius]'],\n",
    "                'Planet Mass': row['Planet Mass [Earth Mass]'],\n",
    "                'Planet Density': row['Planet Density [g/cm**3]'],\n",
    "                'Equilibrium Temperature': row['Equilibrium Temperature [K]'],\n",
    "                'Orbit Semi-Major Axis': row['Orbit Semi-Major Axis [au]'],\n",
    "                'Radial Velocity Amplitude': row['Radial Velocity Amplitude [m/s]'],\n",
    "                'Stellar Effective Temperature': row['Stellar Effective Temperature [K]'],\n",
    "                'Stellar Radius': row['Stellar Radius [Solar Radius]'],\n",
    "                'Stellar Mass': row['Stellar Mass [Solar mass]']\n",
    "            }\n",
    "\n",
    "            for feature, value in features.items():\n",
    "                instruction = f\"What is the {feature.lower().replace('_', ' ')} of {planet_name}?\"\n",
    "                response = f\"The {feature.lower().replace('_', ' ')} of {planet_name} is {value}.\"\n",
    "                instruction_context_response_pairs.append({\n",
    "                    \"instruction\": instruction,\n",
    "                    \"input\": context,\n",
    "                    \"output\": response\n",
    "                })\n",
    "        \n",
    "        return pd.DataFrame(instruction_context_response_pairs)\n",
    "\n",
    "    def transform(self):\n",
    "\n",
    "        # Reading the data\n",
    "        data = pd.read_csv(self.config.data_path)\n",
    "\n",
    "        # Feature selection\n",
    "        feature_selected_data = self.feature_selection(data)\n",
    "\n",
    "        # Null value handling\n",
    "        null_value_handled_data = self.null_value_handling(feature_selected_data)\n",
    "\n",
    "        # Feature Engineering\n",
    "        feature_engineered_data = self.feature_engineering(null_value_handled_data)\n",
    "\n",
    "        # Context generation\n",
    "        feature_engineered_data['Context'] = feature_engineered_data.apply(self.context_generator, axis=1)\n",
    "\n",
    "        # Instruction pair generation\n",
    "        instruction_context_response_pairs = self.instruction_pair_generator(feature_engineered_data)\n",
    "\n",
    "        # Saving the data\n",
    "        instruction_context_response_pairs.to_csv(self.config.data_path_transformed, index=False)\n"
   ]
  },
  {
   "cell_type": "code",
   "execution_count": 11,
   "metadata": {},
   "outputs": [
    {
     "name": "stdout",
     "output_type": "stream",
     "text": [
      "[2024-06-16 00:02:44,769: INFO: common: yaml file: config\\config.yaml loaded successfully]\n",
      "[2024-06-16 00:02:44,770: INFO: common: yaml file: params.yaml loaded successfully]\n",
      "[2024-06-16 00:02:44,772: INFO: common: created directory at: artifacts]\n",
      "[2024-06-16 00:02:44,772: INFO: common: created directory at: artifacts/data_transformation]\n"
     ]
    },
    {
     "name": "stderr",
     "output_type": "stream",
     "text": [
      "C:\\Users\\arany\\AppData\\Local\\Temp\\ipykernel_20232\\2101173612.py:22: FutureWarning: Setting an item of incompatible dtype is deprecated and will raise an error in a future version of pandas. Value 'Not found Yet!!' has dtype incompatible with float64, please explicitly cast to a compatible dtype first.\n",
      "  data.fillna(\"Not found Yet!!\",inplace=True)\n",
      "C:\\Users\\arany\\AppData\\Local\\Temp\\ipykernel_20232\\2101173612.py:22: SettingWithCopyWarning: \n",
      "A value is trying to be set on a copy of a slice from a DataFrame\n",
      "\n",
      "See the caveats in the documentation: https://pandas.pydata.org/pandas-docs/stable/user_guide/indexing.html#returning-a-view-versus-a-copy\n",
      "  data.fillna(\"Not found Yet!!\",inplace=True)\n",
      "C:\\Users\\arany\\AppData\\Local\\Temp\\ipykernel_20232\\2101173612.py:16: SettingWithCopyWarning: \n",
      "A value is trying to be set on a copy of a slice from a DataFrame\n",
      "\n",
      "See the caveats in the documentation: https://pandas.pydata.org/pandas-docs/stable/user_guide/indexing.html#returning-a-view-versus-a-copy\n",
      "  data.rename(columns={'Circumbinary Flag' : 'Binary System'},inplace=True)\n",
      "C:\\Users\\arany\\AppData\\Local\\Temp\\ipykernel_20232\\2101173612.py:17: SettingWithCopyWarning: \n",
      "A value is trying to be set on a copy of a slice from a DataFrame.\n",
      "Try using .loc[row_indexer,col_indexer] = value instead\n",
      "\n",
      "See the caveats in the documentation: https://pandas.pydata.org/pandas-docs/stable/user_guide/indexing.html#returning-a-view-versus-a-copy\n",
      "  data['Binary System'] = data['Binary System'].map({0 : 'Binary System', 1 : 'Not Binary System'})\n",
      "C:\\Users\\arany\\AppData\\Local\\Temp\\ipykernel_20232\\2101173612.py:97: SettingWithCopyWarning: \n",
      "A value is trying to be set on a copy of a slice from a DataFrame.\n",
      "Try using .loc[row_indexer,col_indexer] = value instead\n",
      "\n",
      "See the caveats in the documentation: https://pandas.pydata.org/pandas-docs/stable/user_guide/indexing.html#returning-a-view-versus-a-copy\n",
      "  feature_engineered_data['Context'] = feature_engineered_data.apply(self.context_generator, axis=1)\n"
     ]
    }
   ],
   "source": [
    "try:\n",
    "    config = ConfigurationManager()\n",
    "    data_transformation_config = config.get_data_transformation_config() # Storing the configuration\n",
    "    data_transformation = DataTransformation(config=data_transformation_config) # Using the configuration saved earlier to call model_transformation\n",
    "    data_transformation.transform()\n",
    "except Exception as e:\n",
    "    raise e"
   ]
  },
  {
   "cell_type": "code",
   "execution_count": null,
   "metadata": {},
   "outputs": [],
   "source": []
  },
  {
   "cell_type": "code",
   "execution_count": null,
   "metadata": {},
   "outputs": [],
   "source": []
  },
  {
   "cell_type": "code",
   "execution_count": null,
   "metadata": {},
   "outputs": [],
   "source": []
  }
 ],
 "metadata": {
  "kernelspec": {
   "display_name": "pytorchgpu",
   "language": "python",
   "name": "python3"
  },
  "language_info": {
   "codemirror_mode": {
    "name": "ipython",
    "version": 3
   },
   "file_extension": ".py",
   "mimetype": "text/x-python",
   "name": "python",
   "nbconvert_exporter": "python",
   "pygments_lexer": "ipython3",
   "version": "3.10.14"
  }
 },
 "nbformat": 4,
 "nbformat_minor": 2
}
